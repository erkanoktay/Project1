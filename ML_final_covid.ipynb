{
 "cells": [
  {
   "cell_type": "code",
   "execution_count": 1,
   "metadata": {},
   "outputs": [
    {
     "name": "stderr",
     "output_type": "stream",
     "text": [
      "Using TensorFlow backend.\n"
     ]
    }
   ],
   "source": [
    "import os\n",
    "from PIL import Image\n",
    "import glob\n",
    "from keras.preprocessing.image import load_img\n",
    "from keras.preprocessing.image import img_to_array\n",
    "from keras.preprocessing.image import array_to_img\n",
    "import numpy as np\n",
    "import csv\n",
    "from random import shuffle\n",
    "import matplotlib.pyplot as plt\n",
    "from keras import layers\n",
    "from keras import models\n",
    "from keras.preprocessing.image import ImageDataGenerator"
   ]
  },
  {
   "cell_type": "code",
   "execution_count": 2,
   "metadata": {},
   "outputs": [],
   "source": [
    "IMAGE_PATH=\"../COVID-CT/Images-processed/\"\n",
    "SPLIT_PATH=\"../COVID-CT/Data-split/\""
   ]
  },
  {
   "cell_type": "code",
   "execution_count": 4,
   "metadata": {},
   "outputs": [],
   "source": [
    "with open(SPLIT_PATH + 'COVID/' + 'testCT_COVID.txt') as csv_file:\n",
    "        csv_reader = csv.reader(csv_file, delimiter=',')"
   ]
  },
  {
   "cell_type": "code",
   "execution_count": 6,
   "metadata": {},
   "outputs": [
    {
     "data": {
      "text/plain": [
       "_csv.reader"
      ]
     },
     "execution_count": 6,
     "metadata": {},
     "output_type": "execute_result"
    }
   ],
   "source": [
    "type(csv_reader)"
   ]
  },
  {
   "cell_type": "code",
   "execution_count": 3,
   "metadata": {},
   "outputs": [],
   "source": [
    "def read_files(files,isCovid):\n",
    "    lst=[]\n",
    "    dtype=''\n",
    "    fileFolder=''\n",
    "    lst_img_names=[]\n",
    "    img_sizes=[]\n",
    "    label=0\n",
    "    if isCovid == True :\n",
    "        dtype='COVID/'\n",
    "        fileFolder='CT_COVID/'\n",
    "        label=1\n",
    "    else:\n",
    "        dtype='NonCOVID/'\n",
    "        fileFolder='CT_NonCOVID/'\n",
    "        label=0\n",
    "        \n",
    "        \n",
    "    with open(SPLIT_PATH + dtype + files) as csv_file:\n",
    "        csv_reader = csv.reader(csv_file, delimiter=',')\n",
    "        line_count = 0\n",
    "        for row in csv_reader:\n",
    "            fname = glob.glob(IMAGE_PATH+fileFolder+row[0])\n",
    "            im=load_img(fname[0],target_size=(224, 224))\n",
    "            image=img_to_array(im)\n",
    "            lst.append(image/255)\n",
    "            lst_img_names.append(row[0])\n",
    "            img_sizes.append(im.size)\n",
    "            #lst.append(fname)\n",
    "            \n",
    "#    np_lst=np.array(lst)/255\n",
    "#    lenlist=len(np_lst)\n",
    "#    np_lst_reshaped=np_lst.reshape(lenlist,1)\n",
    "#    flag_list=0\n",
    "#    \n",
    "#    if isCovid == True: \n",
    "#        flag_list=np.ones(lenlist)\n",
    "#        flag_list2=flag_list.reshape(lenlist,1)\n",
    "#    else:\n",
    "#        flag_list=np.zeros(lenlist)\n",
    "#        flag_list2=flag_list.reshape(lenlist,1)\n",
    "#        \n",
    "#    result_lst=np.hstack((np_lst_reshaped,flag_list2))\n",
    "\n",
    "    return lst,lst_img_names, img_sizes\n",
    "    "
   ]
  },
  {
   "cell_type": "code",
   "execution_count": 4,
   "metadata": {},
   "outputs": [],
   "source": [
    "covid_test_data, covid_test_names, s1=read_files('testCT_COVID.txt',True)\n",
    "noncovid_test_data, noncovid_test_names,s2=read_files('testCT_NonCOVID.txt',False)\n",
    "\n",
    "noncovid_train_data, noncovid_train_names,s3=read_files('trainCT_NonCOVID.txt',False)\n",
    "covid_train_data, covid_train_names,s4=read_files('trainCT_COVID.txt',True)\n",
    "\n",
    "covid_valid_data, noncovid_train_names,s5=read_files('valCT_COVID.txt',True)\n",
    "noncovid_valid_data, covid_train_names,s6=read_files('valCT_NonCOVID.txt',False)"
   ]
  },
  {
   "cell_type": "markdown",
   "metadata": {},
   "source": [
    "test_data=np.concatenate((covid_test_data, noncovid_test_data), axis=0)\n",
    "train_data=np.concatenate((covid_train_data, noncovid_train_data), axis=0)\n",
    "valid_data=np.concatenate((covid_valid_data, noncovid_valid_data), axis=0)"
   ]
  },
  {
   "cell_type": "code",
   "execution_count": 5,
   "metadata": {},
   "outputs": [],
   "source": [
    "test_data=covid_test_data+ noncovid_test_data\n",
    "train_data=covid_train_data+ noncovid_train_data\n",
    "valid_data=covid_valid_data+ noncovid_valid_data"
   ]
  },
  {
   "cell_type": "code",
   "execution_count": 6,
   "metadata": {},
   "outputs": [],
   "source": [
    "test1=np.ones(len(covid_test_data))\n",
    "test2=np.zeros(len(noncovid_test_data))"
   ]
  },
  {
   "cell_type": "code",
   "execution_count": 7,
   "metadata": {},
   "outputs": [],
   "source": [
    "y_test=np.hstack((test1,test2))"
   ]
  },
  {
   "cell_type": "code",
   "execution_count": 8,
   "metadata": {},
   "outputs": [],
   "source": [
    "train1=np.ones(len(covid_train_data))\n",
    "train2=np.zeros(len(noncovid_train_data))\n",
    "y_train=np.hstack((train1,train2))"
   ]
  },
  {
   "cell_type": "code",
   "execution_count": 9,
   "metadata": {},
   "outputs": [],
   "source": [
    "valid1=np.ones(len(covid_valid_data))\n",
    "valid2=np.zeros(len(noncovid_valid_data))\n",
    "y_val=np.hstack((valid1,valid2))"
   ]
  },
  {
   "cell_type": "code",
   "execution_count": 10,
   "metadata": {},
   "outputs": [],
   "source": [
    "x_test=np.array(test_data)\n",
    "x_train=np.array(train_data)\n",
    "x_val=np.array(valid_data)"
   ]
  },
  {
   "cell_type": "code",
   "execution_count": 11,
   "metadata": {},
   "outputs": [],
   "source": [
    "#%65 başarı\n",
    "from keras import layers\n",
    "from keras import models\n",
    "\n",
    "model = models.Sequential()\n",
    "model.add(layers.Conv2D(32, (3, 3), activation='relu',\n",
    "                        input_shape=(224,224,3)))\n",
    "model.add(layers.MaxPooling2D((2, 2)))\n",
    "model.add(layers.Conv2D(64, (3, 3), activation='relu'))\n",
    "model.add(layers.MaxPooling2D((2, 2)))\n",
    "model.add(layers.Conv2D(128, (3, 3), activation='relu'))\n",
    "#model.add(layers.MaxPooling2D((2, 2)))\n",
    "#model.add(layers.Conv2D(128, (3, 3), activation='relu'))\n",
    "#model.add(layers.MaxPooling2D((2, 2)))\n",
    "#model.add(layers.Conv2D(128, (3, 3), activation='relu'))\n",
    "model.add(layers.MaxPooling2D((2, 2)))\n",
    "model.add(layers.Flatten())\n",
    "model.add(layers.Dense(512, activation='relu'))\n",
    "#model.add(layers.Dense(256, activation='relu'))\n",
    "#model.add(layers.Dense(128, activation='relu'))\n",
    "model.add(layers.Dense(1, activation='sigmoid'))"
   ]
  },
  {
   "cell_type": "code",
   "execution_count": 12,
   "metadata": {
    "scrolled": true
   },
   "outputs": [
    {
     "name": "stdout",
     "output_type": "stream",
     "text": [
      "Model: \"sequential_1\"\n",
      "_________________________________________________________________\n",
      "Layer (type)                 Output Shape              Param #   \n",
      "=================================================================\n",
      "conv2d_1 (Conv2D)            (None, 222, 222, 32)      896       \n",
      "_________________________________________________________________\n",
      "max_pooling2d_1 (MaxPooling2 (None, 111, 111, 32)      0         \n",
      "_________________________________________________________________\n",
      "conv2d_2 (Conv2D)            (None, 109, 109, 64)      18496     \n",
      "_________________________________________________________________\n",
      "max_pooling2d_2 (MaxPooling2 (None, 54, 54, 64)        0         \n",
      "_________________________________________________________________\n",
      "conv2d_3 (Conv2D)            (None, 52, 52, 128)       73856     \n",
      "_________________________________________________________________\n",
      "max_pooling2d_3 (MaxPooling2 (None, 26, 26, 128)       0         \n",
      "_________________________________________________________________\n",
      "flatten_1 (Flatten)          (None, 86528)             0         \n",
      "_________________________________________________________________\n",
      "dense_1 (Dense)              (None, 512)               44302848  \n",
      "_________________________________________________________________\n",
      "dense_2 (Dense)              (None, 1)                 513       \n",
      "=================================================================\n",
      "Total params: 44,396,609\n",
      "Trainable params: 44,396,609\n",
      "Non-trainable params: 0\n",
      "_________________________________________________________________\n"
     ]
    }
   ],
   "source": [
    "model.summary()"
   ]
  },
  {
   "cell_type": "code",
   "execution_count": 13,
   "metadata": {},
   "outputs": [],
   "source": [
    "from keras import optimizers\n",
    "\n",
    "model.compile(loss='binary_crossentropy', \n",
    "              optimizer=optimizers.RMSprop(lr=1e-4),\n",
    "              metrics=['acc'])"
   ]
  },
  {
   "cell_type": "code",
   "execution_count": 14,
   "metadata": {},
   "outputs": [],
   "source": [
    "train_datagen = ImageDataGenerator(\n",
    "    rescale=1./255,\n",
    "    rotation_range=40,\n",
    "    width_shift_range=0.2,\n",
    "    height_shift_range=0.2,\n",
    "    shear_range=0.2,\n",
    "    zoom_range=0.2,\n",
    "    horizontal_flip=True,)\n"
   ]
  },
  {
   "cell_type": "code",
   "execution_count": 15,
   "metadata": {},
   "outputs": [],
   "source": [
    "test_datagen = ImageDataGenerator(rescale=1./255)"
   ]
  },
  {
   "cell_type": "code",
   "execution_count": 16,
   "metadata": {},
   "outputs": [],
   "source": [
    "train_generator = train_datagen.flow(\n",
    "        x_train,\n",
    "        y_train,\n",
    "        batch_size=16)\n",
    "\n",
    "validation_generator = test_datagen.flow(\n",
    "        x_val,\n",
    "        y_val,\n",
    "        batch_size=16)"
   ]
  },
  {
   "cell_type": "code",
   "execution_count": null,
   "metadata": {
    "scrolled": true
   },
   "outputs": [
    {
     "name": "stdout",
     "output_type": "stream",
     "text": [
      "Epoch 1/30\n",
      "10/10 [==============================] - 28s 3s/step - loss: 0.6943 - acc: 0.5125 - val_loss: 0.6994 - val_acc: 0.4833\n",
      "Epoch 2/30\n",
      "10/10 [==============================] - 24s 2s/step - loss: 0.6838 - acc: 0.5882 - val_loss: 0.7020 - val_acc: 0.5000\n",
      "Epoch 3/30\n",
      "10/10 [==============================] - 25s 3s/step - loss: 0.6856 - acc: 0.5375 - val_loss: 0.6905 - val_acc: 0.5133\n",
      "Epoch 4/30\n",
      "10/10 [==============================] - 25s 2s/step - loss: 0.6668 - acc: 0.6000 - val_loss: 0.7650 - val_acc: 0.4862\n",
      "Epoch 5/30\n",
      "10/10 [==============================] - 24s 2s/step - loss: 0.6622 - acc: 0.5948 - val_loss: 0.6924 - val_acc: 0.5567\n",
      "Epoch 6/30\n",
      "10/10 [==============================] - 26s 3s/step - loss: 0.6543 - acc: 0.6250 - val_loss: 0.6927 - val_acc: 0.4897\n",
      "Epoch 7/30\n",
      "10/10 [==============================] - 25s 3s/step - loss: 0.6475 - acc: 0.6125 - val_loss: 0.6821 - val_acc: 0.5067\n",
      "Epoch 8/30\n",
      "10/10 [==============================] - 23s 2s/step - loss: 0.6616 - acc: 0.6209 - val_loss: 0.7455 - val_acc: 0.5000\n",
      "Epoch 9/30\n",
      "10/10 [==============================] - 27s 3s/step - loss: 0.6506 - acc: 0.6187 - val_loss: 0.6593 - val_acc: 0.4900\n",
      "Epoch 10/30\n",
      "10/10 [==============================] - 24s 2s/step - loss: 0.6134 - acc: 0.6928 - val_loss: 0.9762 - val_acc: 0.5103\n",
      "Epoch 11/30\n",
      "10/10 [==============================] - 25s 3s/step - loss: 0.6478 - acc: 0.6187 - val_loss: 0.6944 - val_acc: 0.5133\n",
      "Epoch 12/30\n",
      "10/10 [==============================] - 25s 2s/step - loss: 0.6397 - acc: 0.6275 - val_loss: 0.7534 - val_acc: 0.5000\n",
      "Epoch 13/30\n",
      "10/10 [==============================] - 24s 2s/step - loss: 0.6173 - acc: 0.6625 - val_loss: 0.6528 - val_acc: 0.5200\n",
      "Epoch 14/30\n",
      "10/10 [==============================] - 25s 3s/step - loss: 0.6316 - acc: 0.6209 - val_loss: 0.7800 - val_acc: 0.4828\n",
      "Epoch 15/30\n",
      " 6/10 [=================>............] - ETA: 8s - loss: 0.5889 - acc: 0.7188 "
     ]
    }
   ],
   "source": [
    "history = model.fit_generator(\n",
    "      train_generator,\n",
    "      steps_per_epoch=10,\n",
    "      epochs=30,\n",
    "      validation_data=validation_generator,\n",
    "      validation_steps=20)"
   ]
  },
  {
   "cell_type": "markdown",
   "metadata": {},
   "source": [
    "model.compile(loss=\"sparse_categorical_crossentropy\", optimizer=\"nadam\", metrics=[\"accuracy\"])\n",
    "history = model.fit(X_train, y_train, epochs=10, validation_data=[X_valid, y_valid])\n",
    "score = model.evaluate(X_test, y_test)\n",
    "X_new = X_test[:10] # pretend we have new images\n",
    "y_pred = model.predict(X_new)"
   ]
  },
  {
   "cell_type": "code",
   "execution_count": 25,
   "metadata": {},
   "outputs": [
    {
     "name": "stdout",
     "output_type": "stream",
     "text": [
      "203/203 [==============================] - 4s 18ms/step\n"
     ]
    }
   ],
   "source": [
    "results=model.evaluate(x_test,y_test)"
   ]
  },
  {
   "cell_type": "code",
   "execution_count": 26,
   "metadata": {},
   "outputs": [
    {
     "data": {
      "text/plain": [
       "[136.7065592047029, 0.48275861144065857]"
      ]
     },
     "execution_count": 26,
     "metadata": {},
     "output_type": "execute_result"
    }
   ],
   "source": [
    "results"
   ]
  },
  {
   "cell_type": "code",
   "execution_count": 16,
   "metadata": {},
   "outputs": [
    {
     "name": "stdout",
     "output_type": "stream",
     "text": [
      "Train on 425 samples, validate on 118 samples\n",
      "Epoch 1/40\n",
      "425/425 [==============================] - 40s 93ms/step - loss: 0.6938 - acc: 0.5318 - val_loss: 0.6987 - val_acc: 0.4915\n",
      "Epoch 2/40\n",
      "425/425 [==============================] - 36s 85ms/step - loss: 0.6829 - acc: 0.5435 - val_loss: 0.7141 - val_acc: 0.4915\n",
      "Epoch 3/40\n",
      "425/425 [==============================] - 36s 84ms/step - loss: 0.6813 - acc: 0.5553 - val_loss: 0.7210 - val_acc: 0.4915\n",
      "Epoch 4/40\n",
      "425/425 [==============================] - 36s 84ms/step - loss: 0.6684 - acc: 0.5953 - val_loss: 0.7348 - val_acc: 0.4915\n",
      "Epoch 5/40\n",
      "425/425 [==============================] - 36s 85ms/step - loss: 0.6634 - acc: 0.6047 - val_loss: 0.7197 - val_acc: 0.4831\n",
      "Epoch 6/40\n",
      "425/425 [==============================] - 36s 84ms/step - loss: 0.6361 - acc: 0.6047 - val_loss: 0.8137 - val_acc: 0.4746\n",
      "Epoch 7/40\n",
      "425/425 [==============================] - 36s 84ms/step - loss: 0.6238 - acc: 0.6424 - val_loss: 0.6592 - val_acc: 0.5847\n",
      "Epoch 8/40\n",
      "425/425 [==============================] - 36s 84ms/step - loss: 0.5928 - acc: 0.6894 - val_loss: 0.6464 - val_acc: 0.5932\n",
      "Epoch 9/40\n",
      "425/425 [==============================] - 36s 84ms/step - loss: 0.5701 - acc: 0.7341 - val_loss: 0.6853 - val_acc: 0.5847\n",
      "Epoch 10/40\n",
      "425/425 [==============================] - 36s 85ms/step - loss: 0.5500 - acc: 0.7365 - val_loss: 1.0684 - val_acc: 0.4915\n",
      "Epoch 11/40\n",
      "425/425 [==============================] - 36s 84ms/step - loss: 0.5102 - acc: 0.7694 - val_loss: 0.6582 - val_acc: 0.5932\n",
      "Epoch 12/40\n",
      "425/425 [==============================] - 36s 84ms/step - loss: 0.4918 - acc: 0.7482 - val_loss: 0.6351 - val_acc: 0.6695\n",
      "Epoch 13/40\n",
      "425/425 [==============================] - 36s 84ms/step - loss: 0.5006 - acc: 0.7482 - val_loss: 0.6960 - val_acc: 0.6695\n",
      "Epoch 14/40\n",
      "425/425 [==============================] - 36s 84ms/step - loss: 0.4537 - acc: 0.7788 - val_loss: 0.6535 - val_acc: 0.6356\n",
      "Epoch 15/40\n",
      "425/425 [==============================] - 36s 84ms/step - loss: 0.4460 - acc: 0.7953 - val_loss: 0.6542 - val_acc: 0.6356\n",
      "Epoch 16/40\n",
      "425/425 [==============================] - 36s 84ms/step - loss: 0.3895 - acc: 0.8494 - val_loss: 1.1732 - val_acc: 0.5593\n",
      "Epoch 17/40\n",
      "425/425 [==============================] - 36s 84ms/step - loss: 0.3797 - acc: 0.8259 - val_loss: 1.0610 - val_acc: 0.5847\n",
      "Epoch 18/40\n",
      "425/425 [==============================] - 36s 85ms/step - loss: 0.3460 - acc: 0.8447 - val_loss: 0.6858 - val_acc: 0.6356\n",
      "Epoch 19/40\n",
      "425/425 [==============================] - 37s 87ms/step - loss: 0.3626 - acc: 0.8376 - val_loss: 0.7032 - val_acc: 0.6864\n",
      "Epoch 20/40\n",
      "425/425 [==============================] - 36s 84ms/step - loss: 0.3052 - acc: 0.8776 - val_loss: 0.8262 - val_acc: 0.6780\n",
      "Epoch 21/40\n",
      "425/425 [==============================] - 36s 84ms/step - loss: 0.2767 - acc: 0.8988 - val_loss: 0.7971 - val_acc: 0.6610\n",
      "Epoch 22/40\n",
      "425/425 [==============================] - 36s 85ms/step - loss: 0.2977 - acc: 0.8753 - val_loss: 0.6895 - val_acc: 0.6525\n",
      "Epoch 23/40\n",
      "425/425 [==============================] - 36s 84ms/step - loss: 0.2349 - acc: 0.9153 - val_loss: 1.4716 - val_acc: 0.5424\n",
      "Epoch 24/40\n",
      "425/425 [==============================] - 37s 86ms/step - loss: 0.2276 - acc: 0.9153 - val_loss: 0.9067 - val_acc: 0.6441\n",
      "Epoch 25/40\n",
      "425/425 [==============================] - 36s 84ms/step - loss: 0.2489 - acc: 0.9129 - val_loss: 0.8125 - val_acc: 0.6441\n",
      "Epoch 26/40\n",
      "425/425 [==============================] - 36s 86ms/step - loss: 0.1909 - acc: 0.9412 - val_loss: 0.9493 - val_acc: 0.7203\n",
      "Epoch 27/40\n",
      "425/425 [==============================] - 36s 86ms/step - loss: 0.1774 - acc: 0.9341 - val_loss: 0.8668 - val_acc: 0.6780\n",
      "Epoch 28/40\n",
      "425/425 [==============================] - 36s 84ms/step - loss: 0.1510 - acc: 0.9506 - val_loss: 0.8497 - val_acc: 0.6186\n",
      "Epoch 29/40\n",
      "425/425 [==============================] - 36s 85ms/step - loss: 0.1665 - acc: 0.9388 - val_loss: 0.7979 - val_acc: 0.6695\n",
      "Epoch 30/40\n",
      "425/425 [==============================] - 36s 84ms/step - loss: 0.0927 - acc: 0.9812 - val_loss: 0.8875 - val_acc: 0.6780\n",
      "Epoch 31/40\n",
      "425/425 [==============================] - 36s 84ms/step - loss: 0.1031 - acc: 0.9741 - val_loss: 1.0777 - val_acc: 0.7203\n",
      "Epoch 32/40\n",
      "425/425 [==============================] - 36s 85ms/step - loss: 0.1256 - acc: 0.9647 - val_loss: 0.8317 - val_acc: 0.7119\n",
      "Epoch 33/40\n",
      "425/425 [==============================] - 36s 84ms/step - loss: 0.0677 - acc: 0.9812 - val_loss: 1.3262 - val_acc: 0.6780\n",
      "Epoch 34/40\n",
      "425/425 [==============================] - 37s 88ms/step - loss: 0.0404 - acc: 0.9929 - val_loss: 1.8557 - val_acc: 0.5169\n",
      "Epoch 35/40\n",
      "425/425 [==============================] - 36s 85ms/step - loss: 0.1219 - acc: 0.9694 - val_loss: 1.1215 - val_acc: 0.7034\n",
      "Epoch 36/40\n",
      "425/425 [==============================] - 36s 84ms/step - loss: 0.1096 - acc: 0.9671 - val_loss: 1.0585 - val_acc: 0.7034\n",
      "Epoch 37/40\n",
      "425/425 [==============================] - 36s 84ms/step - loss: 0.0226 - acc: 1.0000 - val_loss: 1.2415 - val_acc: 0.7119\n",
      "Epoch 38/40\n",
      "425/425 [==============================] - 36s 84ms/step - loss: 0.1289 - acc: 0.9576 - val_loss: 1.0713 - val_acc: 0.7034\n",
      "Epoch 39/40\n",
      "425/425 [==============================] - 38s 89ms/step - loss: 0.0197 - acc: 1.0000 - val_loss: 1.3743 - val_acc: 0.7203\n",
      "Epoch 40/40\n",
      "425/425 [==============================] - 37s 86ms/step - loss: 0.0103 - acc: 1.0000 - val_loss: 1.6818 - val_acc: 0.7119\n"
     ]
    }
   ],
   "source": [
    "history = model.fit(\n",
    "      x_train,\n",
    "      y_train,\n",
    "      epochs=40,\n",
    "      validation_data=[x_val, y_val]\n",
    ")"
   ]
  },
  {
   "cell_type": "code",
   "execution_count": 22,
   "metadata": {},
   "outputs": [
    {
     "data": {
      "text/plain": [
       "dict_keys(['val_loss', 'val_acc', 'loss', 'acc'])"
      ]
     },
     "execution_count": 22,
     "metadata": {},
     "output_type": "execute_result"
    }
   ],
   "source": [
    "#history eğitim boyunca modelde neler olduğunu gösterir.\n",
    "history_dict=history.history\n",
    "history_dict.keys()"
   ]
  },
  {
   "cell_type": "code",
   "execution_count": 23,
   "metadata": {},
   "outputs": [],
   "source": [
    "loss_values=history_dict['loss']\n",
    "val_loss_values=history_dict['val_loss']\n",
    "epochs=range(1, len(loss_values)+1)"
   ]
  },
  {
   "cell_type": "code",
   "execution_count": 25,
   "metadata": {},
   "outputs": [
    {
     "data": {
      "image/png": "[encoded data removed]",
      "text/plain": [
       "<Figure size 432x288 with 1 Axes>"
      ]
     },
     "metadata": {
      "needs_background": "light"
     },
     "output_type": "display_data"
    }
   ],
   "source": [
    "plt.plot(epochs,loss_values,'bo',label='Eğitim Kaybı')#bo mavi nokta\n",
    "plt.plot(epochs,val_loss_values,'c',label='Doğruluk Kaybı')#b mavi düz çizgi\n",
    "plt.title(\"Eğitim ve Doğruluk Kaybı\")\n",
    "plt.xlabel('epochs')\n",
    "plt.ylabel('kayıp')\n",
    "plt.legend\n",
    "plt.show()"
   ]
  },
  {
   "cell_type": "code",
   "execution_count": 26,
   "metadata": {},
   "outputs": [],
   "source": [
    "acc=history_dict['acc']\n",
    "val_acc=history_dict['val_acc']"
   ]
  },
  {
   "cell_type": "code",
   "execution_count": 27,
   "metadata": {},
   "outputs": [
    {
     "data": {
      "image/png": "[encoded data removed]",
      "text/plain": [
       "<Figure size 432x288 with 1 Axes>"
      ]
     },
     "metadata": {
      "needs_background": "light"
     },
     "output_type": "display_data"
    }
   ],
   "source": [
    "plt.plot(epochs,acc,'bo',label='Eğitim Başarımı')#bo mavi nokta\n",
    "plt.plot(epochs,val_acc,'c',label='Doğruluk Başarımı')#b mavi düz çizgi\n",
    "plt.title(\"Eğitim ve Doğruluk Başarımı\")\n",
    "plt.xlabel('epochs')\n",
    "plt.ylabel('Başarım')\n",
    "plt.legend\n",
    "plt.show()"
   ]
  },
  {
   "cell_type": "code",
   "execution_count": 28,
   "metadata": {},
   "outputs": [
    {
     "name": "stdout",
     "output_type": "stream",
     "text": [
      "203/203 [==============================] - 5s 26ms/step\n"
     ]
    }
   ],
   "source": [
    "results=model.evaluate(x_test,y_test)"
   ]
  },
  {
   "cell_type": "code",
   "execution_count": 29,
   "metadata": {},
   "outputs": [
    {
     "data": {
      "text/plain": [
       "[0.7470608644297557, 0.48275861144065857]"
      ]
     },
     "execution_count": 29,
     "metadata": {},
     "output_type": "execute_result"
    }
   ],
   "source": [
    "results"
   ]
  },
  {
   "cell_type": "code",
   "execution_count": 34,
   "metadata": {},
   "outputs": [],
   "source": [
    "model.save('corona_trial2.h5')"
   ]
  },
  {
   "cell_type": "code",
   "execution_count": 55,
   "metadata": {},
   "outputs": [
    {
     "data": {
      "text/plain": [
       "array([[8.89458239e-01],\n",
       "       [1.38128519e-01],\n",
       "       [9.99944925e-01],\n",
       "       [3.71761650e-01],\n",
       "       [9.75484312e-01],\n",
       "       [9.94690478e-01],\n",
       "       [9.37269390e-01],\n",
       "       [1.95587240e-02],\n",
       "       [7.90481354e-05],\n",
       "       [9.39548700e-05],\n",
       "       [2.48459969e-06],\n",
       "       [8.22782822e-05],\n",
       "       [6.93358898e-01],\n",
       "       [1.26871439e-02],\n",
       "       [1.28859766e-02],\n",
       "       [3.19789723e-03],\n",
       "       [1.44580826e-02],\n",
       "       [8.29552054e-01],\n",
       "       [8.86325002e-01],\n",
       "       [4.47212875e-01],\n",
       "       [1.39849439e-01],\n",
       "       [4.44888622e-01],\n",
       "       [1.00314446e-01],\n",
       "       [8.99462819e-01],\n",
       "       [9.51081336e-01],\n",
       "       [6.89098954e-01],\n",
       "       [9.72760856e-01],\n",
       "       [2.06991568e-01],\n",
       "       [9.51258898e-01],\n",
       "       [4.93561178e-01],\n",
       "       [9.92493212e-01],\n",
       "       [2.48351052e-01],\n",
       "       [4.38313603e-01],\n",
       "       [9.26268280e-01],\n",
       "       [3.88327315e-02],\n",
       "       [9.00918424e-01],\n",
       "       [7.28057802e-01],\n",
       "       [3.64755064e-01],\n",
       "       [9.79750574e-01],\n",
       "       [8.03087056e-01],\n",
       "       [5.47443271e-01],\n",
       "       [1.04448348e-01],\n",
       "       [8.45070779e-01],\n",
       "       [3.33998621e-01],\n",
       "       [9.12806451e-01],\n",
       "       [9.91453171e-01],\n",
       "       [9.86096561e-01],\n",
       "       [9.99927163e-01],\n",
       "       [2.89680727e-04],\n",
       "       [5.21573983e-02],\n",
       "       [9.99937415e-01],\n",
       "       [9.99905229e-01],\n",
       "       [1.23836525e-01],\n",
       "       [7.92904079e-01],\n",
       "       [9.99527812e-01],\n",
       "       [9.85994875e-01],\n",
       "       [6.09830379e-01],\n",
       "       [8.44869256e-01],\n",
       "       [1.34448528e-01],\n",
       "       [3.18394043e-02],\n",
       "       [1.53594151e-01],\n",
       "       [3.83376956e-01],\n",
       "       [9.13629413e-01],\n",
       "       [9.40349400e-02],\n",
       "       [7.88150251e-01],\n",
       "       [9.96538401e-01],\n",
       "       [9.88835394e-01],\n",
       "       [8.94405842e-01],\n",
       "       [9.99976993e-01],\n",
       "       [6.29711151e-01],\n",
       "       [9.88011301e-01],\n",
       "       [9.99565303e-01],\n",
       "       [9.99911427e-01],\n",
       "       [9.94920313e-01],\n",
       "       [8.90390158e-01],\n",
       "       [4.25047755e-01],\n",
       "       [4.93665099e-01],\n",
       "       [2.32876162e-03],\n",
       "       [5.80119558e-06],\n",
       "       [4.95364075e-05],\n",
       "       [4.63804550e-04],\n",
       "       [3.70752212e-04],\n",
       "       [6.30399644e-01],\n",
       "       [2.04177976e-01],\n",
       "       [7.65325606e-01],\n",
       "       [8.96109879e-01],\n",
       "       [1.21318048e-03],\n",
       "       [9.65121031e-01],\n",
       "       [9.57717896e-01],\n",
       "       [9.99770582e-01],\n",
       "       [9.91890907e-01],\n",
       "       [4.73297328e-01],\n",
       "       [5.56181848e-01],\n",
       "       [9.46870804e-01],\n",
       "       [3.99421602e-02],\n",
       "       [4.66323756e-02],\n",
       "       [1.59781016e-02],\n",
       "       [1.64892655e-02],\n",
       "       [2.02625066e-01],\n",
       "       [2.70095393e-02],\n",
       "       [7.97402579e-03],\n",
       "       [6.69649709e-03],\n",
       "       [4.61995080e-02],\n",
       "       [9.82035398e-01],\n",
       "       [7.32931554e-01],\n",
       "       [8.80761921e-01],\n",
       "       [1.50231495e-01],\n",
       "       [5.13925016e-01],\n",
       "       [9.67727974e-02],\n",
       "       [2.48027034e-03],\n",
       "       [6.96129957e-03],\n",
       "       [1.42704561e-01],\n",
       "       [6.76072016e-02],\n",
       "       [2.26502176e-04],\n",
       "       [1.45724922e-01],\n",
       "       [9.33350530e-03],\n",
       "       [6.08065426e-01],\n",
       "       [2.79134256e-05],\n",
       "       [5.92170352e-07],\n",
       "       [3.62602668e-06],\n",
       "       [1.00275111e-05],\n",
       "       [8.91096818e-07],\n",
       "       [5.74341641e-08],\n",
       "       [2.85265300e-09],\n",
       "       [5.71151104e-05],\n",
       "       [5.45951538e-03],\n",
       "       [2.40463378e-05],\n",
       "       [9.79455113e-01],\n",
       "       [8.74501824e-01],\n",
       "       [5.72435260e-01],\n",
       "       [3.29384506e-01],\n",
       "       [4.88018394e-02],\n",
       "       [5.39875105e-02],\n",
       "       [5.82694728e-03],\n",
       "       [5.12449304e-04],\n",
       "       [1.86110124e-01],\n",
       "       [1.95443146e-02],\n",
       "       [2.10714415e-01],\n",
       "       [2.24272117e-01],\n",
       "       [1.05724372e-01],\n",
       "       [1.76705360e-01],\n",
       "       [3.35464120e-01],\n",
       "       [3.25223664e-04],\n",
       "       [1.82410061e-01],\n",
       "       [5.40857166e-02],\n",
       "       [1.38500065e-01],\n",
       "       [5.62116643e-03],\n",
       "       [5.31846990e-06],\n",
       "       [1.00611873e-01],\n",
       "       [5.26486337e-03],\n",
       "       [7.49262574e-04],\n",
       "       [5.27047366e-02],\n",
       "       [5.44516921e-01],\n",
       "       [1.98951989e-01],\n",
       "       [2.63408214e-01],\n",
       "       [8.94511770e-03],\n",
       "       [1.95002422e-01],\n",
       "       [3.49903218e-02],\n",
       "       [7.77640700e-01],\n",
       "       [8.57418835e-01],\n",
       "       [9.99898076e-01],\n",
       "       [5.29695973e-02],\n",
       "       [1.07416928e-01],\n",
       "       [3.43578041e-01],\n",
       "       [8.05340111e-01],\n",
       "       [5.29652052e-02],\n",
       "       [9.72447813e-01],\n",
       "       [8.60552728e-01],\n",
       "       [6.39852107e-01],\n",
       "       [9.99999046e-01],\n",
       "       [8.05544615e-01],\n",
       "       [8.99336517e-01],\n",
       "       [6.25615001e-01],\n",
       "       [5.23985317e-03],\n",
       "       [4.62442543e-03],\n",
       "       [1.93459000e-02],\n",
       "       [7.68050849e-02],\n",
       "       [2.03208387e-01],\n",
       "       [1.27498925e-01],\n",
       "       [3.72645348e-01],\n",
       "       [5.23836017e-01],\n",
       "       [5.67858458e-01],\n",
       "       [8.68905127e-01],\n",
       "       [1.14082918e-03],\n",
       "       [1.24706159e-04],\n",
       "       [1.82585893e-08],\n",
       "       [7.06079602e-03],\n",
       "       [1.76654154e-04],\n",
       "       [9.70682621e-01],\n",
       "       [5.10659337e-01],\n",
       "       [3.15920822e-02],\n",
       "       [4.56321985e-02],\n",
       "       [4.54935851e-03],\n",
       "       [1.06815413e-01],\n",
       "       [4.88054007e-01],\n",
       "       [5.23695685e-02],\n",
       "       [4.03248565e-03],\n",
       "       [7.07839907e-04],\n",
       "       [9.94267780e-03],\n",
       "       [1.76083483e-02],\n",
       "       [1.96212664e-01],\n",
       "       [3.08916688e-01],\n",
       "       [3.03050220e-01]], dtype=float32)"
      ]
     },
     "execution_count": 55,
     "metadata": {},
     "output_type": "execute_result"
    }
   ],
   "source": [
    "model.predict(x_test)"
   ]
  },
  {
   "cell_type": "code",
   "execution_count": 11,
   "metadata": {},
   "outputs": [],
   "source": [
    "from functools import partial\n",
    "DefaultConv2D = partial(layers.Conv2D,\n",
    "                        kernel_size=3, activation='relu', padding=\"SAME\")\n",
    "\n",
    "model = models.Sequential([\n",
    "    DefaultConv2D(filters=64, kernel_size=7, input_shape=[224, 224, 3]),\n",
    "    layers.MaxPooling2D(pool_size=2),\n",
    "    DefaultConv2D(filters=128),\n",
    "    DefaultConv2D(filters=128),\n",
    "    layers.MaxPooling2D(pool_size=2),\n",
    "    DefaultConv2D(filters=256),\n",
    "    DefaultConv2D(filters=256),\n",
    "    layers.MaxPooling2D(pool_size=2),\n",
    "    layers.Flatten(),\n",
    "    layers.Dense(units=128, activation='relu'),\n",
    "    layers.Dense(units=64, activation='relu'),\n",
    "    layers.Dense(units=1, activation='softmax'),\n",
    "])"
   ]
  },
  {
   "cell_type": "code",
   "execution_count": 12,
   "metadata": {
    "scrolled": true
   },
   "outputs": [
    {
     "name": "stdout",
     "output_type": "stream",
     "text": [
      "Model: \"sequential_1\"\n",
      "_________________________________________________________________\n",
      "Layer (type)                 Output Shape              Param #   \n",
      "=================================================================\n",
      "conv2d_1 (Conv2D)            (None, 224, 224, 64)      9472      \n",
      "_________________________________________________________________\n",
      "max_pooling2d_1 (MaxPooling2 (None, 112, 112, 64)      0         \n",
      "_________________________________________________________________\n",
      "conv2d_2 (Conv2D)            (None, 112, 112, 128)     73856     \n",
      "_________________________________________________________________\n",
      "conv2d_3 (Conv2D)            (None, 112, 112, 128)     147584    \n",
      "_________________________________________________________________\n",
      "max_pooling2d_2 (MaxPooling2 (None, 56, 56, 128)       0         \n",
      "_________________________________________________________________\n",
      "conv2d_4 (Conv2D)            (None, 56, 56, 256)       295168    \n",
      "_________________________________________________________________\n",
      "conv2d_5 (Conv2D)            (None, 56, 56, 256)       590080    \n",
      "_________________________________________________________________\n",
      "max_pooling2d_3 (MaxPooling2 (None, 28, 28, 256)       0         \n",
      "_________________________________________________________________\n",
      "flatten_1 (Flatten)          (None, 200704)            0         \n",
      "_________________________________________________________________\n",
      "dense_1 (Dense)              (None, 128)               25690240  \n",
      "_________________________________________________________________\n",
      "dropout_1 (Dropout)          (None, 128)               0         \n",
      "_________________________________________________________________\n",
      "dense_2 (Dense)              (None, 64)                8256      \n",
      "_________________________________________________________________\n",
      "dropout_2 (Dropout)          (None, 64)                0         \n",
      "_________________________________________________________________\n",
      "dense_3 (Dense)              (None, 1)                 65        \n",
      "=================================================================\n",
      "Total params: 26,814,721\n",
      "Trainable params: 26,814,721\n",
      "Non-trainable params: 0\n",
      "_________________________________________________________________\n"
     ]
    }
   ],
   "source": [
    "model.summary()"
   ]
  },
  {
   "cell_type": "code",
   "execution_count": 14,
   "metadata": {},
   "outputs": [
    {
     "name": "stdout",
     "output_type": "stream",
     "text": [
      "Train on 425 samples, validate on 118 samples\n",
      "Epoch 1/10\n",
      "425/425 [==============================] - 261s 615ms/step - loss: 8.4423 - accuracy: 0.4494 - val_loss: 7.4954 - val_accuracy: 0.5085\n",
      "Epoch 2/10\n",
      "425/425 [==============================] - 260s 612ms/step - loss: 8.4423 - accuracy: 0.4494 - val_loss: 7.4954 - val_accuracy: 0.5085\n",
      "Epoch 3/10\n",
      "425/425 [==============================] - 262s 617ms/step - loss: 8.4423 - accuracy: 0.4494 - val_loss: 7.4954 - val_accuracy: 0.5085\n",
      "Epoch 4/10\n",
      "425/425 [==============================] - 258s 607ms/step - loss: 8.4423 - accuracy: 0.4494 - val_loss: 7.4954 - val_accuracy: 0.5085\n",
      "Epoch 5/10\n",
      "425/425 [==============================] - 258s 606ms/step - loss: 8.4423 - accuracy: 0.4494 - val_loss: 7.4954 - val_accuracy: 0.5085\n",
      "Epoch 6/10\n",
      "425/425 [==============================] - 10715s 25s/step - loss: 8.4423 - accuracy: 0.4494 - val_loss: 7.4954 - val_accuracy: 0.5085\n",
      "Epoch 7/10\n",
      "425/425 [==============================] - 259s 610ms/step - loss: 8.4423 - accuracy: 0.4494 - val_loss: 7.4954 - val_accuracy: 0.5085\n",
      "Epoch 8/10\n",
      "425/425 [==============================] - 257s 606ms/step - loss: 8.4423 - accuracy: 0.4494 - val_loss: 7.4954 - val_accuracy: 0.5085\n",
      "Epoch 9/10\n",
      "425/425 [==============================] - 257s 605ms/step - loss: 8.4423 - accuracy: 0.4494 - val_loss: 7.4954 - val_accuracy: 0.5085\n",
      "Epoch 10/10\n",
      "425/425 [==============================] - 279s 657ms/step - loss: 8.4423 - accuracy: 0.4494 - val_loss: 7.4954 - val_accuracy: 0.5085\n"
     ]
    }
   ],
   "source": [
    "model.compile(loss=\"binary_crossentropy\", optimizer=\"nadam\", metrics=[\"accuracy\"])\n",
    "history = model.fit(x_train, y_train, epochs=10,batch_size=10, validation_data=[x_val, y_val])"
   ]
  },
  {
   "cell_type": "code",
   "execution_count": 21,
   "metadata": {},
   "outputs": [
    {
     "data": {
      "text/plain": [
       "dict_keys(['val_loss', 'val_accuracy', 'loss', 'accuracy'])"
      ]
     },
     "execution_count": 21,
     "metadata": {},
     "output_type": "execute_result"
    }
   ],
   "source": [
    "#history eğitim boyunca modelde neler olduğunu gösterir.\n",
    "history_dict=history.history\n",
    "history_dict.keys()"
   ]
  },
  {
   "cell_type": "code",
   "execution_count": 22,
   "metadata": {},
   "outputs": [],
   "source": [
    "loss_values=history_dict['loss']\n",
    "val_loss_values=history_dict['val_loss']\n",
    "epochs=range(1, len(loss_values)+1)"
   ]
  },
  {
   "cell_type": "code",
   "execution_count": 23,
   "metadata": {},
   "outputs": [
    {
     "data": {
      "image/png": "[encoded data removed]",
      "text/plain": [
       "<Figure size 432x288 with 1 Axes>"
      ]
     },
     "metadata": {
      "needs_background": "light"
     },
     "output_type": "display_data"
    }
   ],
   "source": [
    "plt.plot(epochs,loss_values,'bo',label='Eğitim Kaybı')#bo mavi nokta\n",
    "plt.plot(epochs,val_loss_values,'c',label='Doğruluk Kaybı')#b mavi düz çizgi\n",
    "plt.title(\"Eğitim ve Doğruluk Kaybı\")\n",
    "plt.xlabel('epochs')\n",
    "plt.ylabel('kayıp')\n",
    "plt.legend\n",
    "plt.show()"
   ]
  },
  {
   "cell_type": "code",
   "execution_count": 24,
   "metadata": {},
   "outputs": [],
   "source": [
    "acc=history_dict['accuracy']\n",
    "val_acc=history_dict['val_accuracy']"
   ]
  },
  {
   "cell_type": "code",
   "execution_count": 25,
   "metadata": {},
   "outputs": [
    {
     "data": {
      "image/png": "[encoded data removed]",
      "text/plain": [
       "<Figure size 432x288 with 1 Axes>"
      ]
     },
     "metadata": {
      "needs_background": "light"
     },
     "output_type": "display_data"
    }
   ],
   "source": [
    "plt.plot(epochs,acc,'bo',label='Eğitim Başarımı')#bo mavi nokta\n",
    "plt.plot(epochs,val_acc,'c',label='Doğruluk Başarımı')#b mavi düz çizgi\n",
    "plt.title(\"Eğitim ve Doğruluk Başarımı\")\n",
    "plt.xlabel('epochs')\n",
    "plt.ylabel('Başarım')\n",
    "plt.legend\n",
    "plt.show()"
   ]
  },
  {
   "cell_type": "code",
   "execution_count": 26,
   "metadata": {},
   "outputs": [
    {
     "name": "stdout",
     "output_type": "stream",
     "text": [
      "203/203 [==============================] - 26s 126ms/step\n"
     ]
    }
   ],
   "source": [
    "score = model.evaluate(x_test, y_test)\n",
    "X_new = x_test[:10] # pretend we have new images\n",
    "y_pred = model.predict(X_new)"
   ]
  },
  {
   "cell_type": "code",
   "execution_count": 28,
   "metadata": {},
   "outputs": [
    {
     "data": {
      "text/plain": [
       "[7.887536913303319, 0.48275861144065857]"
      ]
     },
     "execution_count": 28,
     "metadata": {},
     "output_type": "execute_result"
    }
   ],
   "source": [
    "score"
   ]
  },
  {
   "cell_type": "code",
   "execution_count": null,
   "metadata": {},
   "outputs": [],
   "source": []
  }
 ],
 "metadata": {
  "kernelspec": {
   "display_name": "Python 3",
   "language": "python",
   "name": "python3"
  },
  "language_info": {
   "codemirror_mode": {
    "name": "ipython",
    "version": 3
   },
   "file_extension": ".py",
   "mimetype": "text/x-python",
   "name": "python",
   "nbconvert_exporter": "python",
   "pygments_lexer": "ipython3",
   "version": "3.7.4"
  }
 },
 "nbformat": 4,
 "nbformat_minor": 2
}
